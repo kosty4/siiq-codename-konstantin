{
 "cells": [
  {
   "cell_type": "code",
   "execution_count": 1,
   "id": "9771c277",
   "metadata": {},
   "outputs": [],
   "source": [
    "import csv\n",
    "import os\n",
    "import pandas as pd\n",
    "import numpy as np\n",
    "import matplotlib.pyplot as plt\n",
    "import seaborn as sns"
   ]
  },
  {
   "cell_type": "code",
   "execution_count": 2,
   "id": "ffa36bb4",
   "metadata": {},
   "outputs": [],
   "source": [
    "#read in the dataframes\n",
    "df_activities = pd.read_csv(\"data/activities.csv\")\n",
    "df_users = pd.read_csv(\"data/users.csv\")"
   ]
  },
  {
   "cell_type": "code",
   "execution_count": 3,
   "id": "28f922ed",
   "metadata": {},
   "outputs": [
    {
     "data": {
      "text/html": [
       "<div>\n",
       "<style scoped>\n",
       "    .dataframe tbody tr th:only-of-type {\n",
       "        vertical-align: middle;\n",
       "    }\n",
       "\n",
       "    .dataframe tbody tr th {\n",
       "        vertical-align: top;\n",
       "    }\n",
       "\n",
       "    .dataframe thead th {\n",
       "        text-align: right;\n",
       "    }\n",
       "</style>\n",
       "<table border=\"1\" class=\"dataframe\">\n",
       "  <thead>\n",
       "    <tr style=\"text-align: right;\">\n",
       "      <th></th>\n",
       "      <th>UserId</th>\n",
       "      <th>Date</th>\n",
       "      <th>Revenue</th>\n",
       "    </tr>\n",
       "  </thead>\n",
       "  <tbody>\n",
       "    <tr>\n",
       "      <th>0</th>\n",
       "      <td>1326865</td>\n",
       "      <td>2017-02-19</td>\n",
       "      <td>17.05</td>\n",
       "    </tr>\n",
       "    <tr>\n",
       "      <th>1</th>\n",
       "      <td>1326865</td>\n",
       "      <td>2017-02-28</td>\n",
       "      <td>17.05</td>\n",
       "    </tr>\n",
       "    <tr>\n",
       "      <th>2</th>\n",
       "      <td>1326865</td>\n",
       "      <td>2017-03-06</td>\n",
       "      <td>17.16</td>\n",
       "    </tr>\n",
       "    <tr>\n",
       "      <th>3</th>\n",
       "      <td>1326865</td>\n",
       "      <td>2017-03-07</td>\n",
       "      <td>17.16</td>\n",
       "    </tr>\n",
       "    <tr>\n",
       "      <th>4</th>\n",
       "      <td>1326865</td>\n",
       "      <td>2017-03-08</td>\n",
       "      <td>17.16</td>\n",
       "    </tr>\n",
       "    <tr>\n",
       "      <th>...</th>\n",
       "      <td>...</td>\n",
       "      <td>...</td>\n",
       "      <td>...</td>\n",
       "    </tr>\n",
       "    <tr>\n",
       "      <th>22637</th>\n",
       "      <td>3347222</td>\n",
       "      <td>2017-05-15</td>\n",
       "      <td>57.81</td>\n",
       "    </tr>\n",
       "    <tr>\n",
       "      <th>22638</th>\n",
       "      <td>3347251</td>\n",
       "      <td>2017-04-03</td>\n",
       "      <td>30.00</td>\n",
       "    </tr>\n",
       "    <tr>\n",
       "      <th>22639</th>\n",
       "      <td>3347333</td>\n",
       "      <td>2017-01-27</td>\n",
       "      <td>30.00</td>\n",
       "    </tr>\n",
       "    <tr>\n",
       "      <th>22640</th>\n",
       "      <td>3347367</td>\n",
       "      <td>2017-04-04</td>\n",
       "      <td>17.05</td>\n",
       "    </tr>\n",
       "    <tr>\n",
       "      <th>22641</th>\n",
       "      <td>3347450</td>\n",
       "      <td>2017-04-21</td>\n",
       "      <td>42.63</td>\n",
       "    </tr>\n",
       "  </tbody>\n",
       "</table>\n",
       "<p>22642 rows × 3 columns</p>\n",
       "</div>"
      ],
      "text/plain": [
       "        UserId        Date  Revenue\n",
       "0      1326865  2017-02-19    17.05\n",
       "1      1326865  2017-02-28    17.05\n",
       "2      1326865  2017-03-06    17.16\n",
       "3      1326865  2017-03-07    17.16\n",
       "4      1326865  2017-03-08    17.16\n",
       "...        ...         ...      ...\n",
       "22637  3347222  2017-05-15    57.81\n",
       "22638  3347251  2017-04-03    30.00\n",
       "22639  3347333  2017-01-27    30.00\n",
       "22640  3347367  2017-04-04    17.05\n",
       "22641  3347450  2017-04-21    42.63\n",
       "\n",
       "[22642 rows x 3 columns]"
      ]
     },
     "execution_count": 3,
     "metadata": {},
     "output_type": "execute_result"
    }
   ],
   "source": [
    "df_activities"
   ]
  },
  {
   "cell_type": "code",
   "execution_count": 4,
   "id": "40b997a0",
   "metadata": {},
   "outputs": [
    {
     "data": {
      "text/html": [
       "<div>\n",
       "<style scoped>\n",
       "    .dataframe tbody tr th:only-of-type {\n",
       "        vertical-align: middle;\n",
       "    }\n",
       "\n",
       "    .dataframe tbody tr th {\n",
       "        vertical-align: top;\n",
       "    }\n",
       "\n",
       "    .dataframe thead th {\n",
       "        text-align: right;\n",
       "    }\n",
       "</style>\n",
       "<table border=\"1\" class=\"dataframe\">\n",
       "  <thead>\n",
       "    <tr style=\"text-align: right;\">\n",
       "      <th></th>\n",
       "      <th>UserId</th>\n",
       "      <th>Country</th>\n",
       "      <th>DOB</th>\n",
       "      <th>Gender</th>\n",
       "      <th>RegDate</th>\n",
       "    </tr>\n",
       "  </thead>\n",
       "  <tbody>\n",
       "    <tr>\n",
       "      <th>0</th>\n",
       "      <td>1326865</td>\n",
       "      <td>DE</td>\n",
       "      <td>1988-05-04</td>\n",
       "      <td>M</td>\n",
       "      <td>2016-03-24</td>\n",
       "    </tr>\n",
       "    <tr>\n",
       "      <th>1</th>\n",
       "      <td>1333278</td>\n",
       "      <td>GB</td>\n",
       "      <td>1971-07-21</td>\n",
       "      <td>M</td>\n",
       "      <td>2016-02-09</td>\n",
       "    </tr>\n",
       "    <tr>\n",
       "      <th>2</th>\n",
       "      <td>1336967</td>\n",
       "      <td>GB</td>\n",
       "      <td>1983-07-31</td>\n",
       "      <td>M</td>\n",
       "      <td>2016-01-29</td>\n",
       "    </tr>\n",
       "    <tr>\n",
       "      <th>3</th>\n",
       "      <td>1339784</td>\n",
       "      <td>Other</td>\n",
       "      <td>1976-09-21</td>\n",
       "      <td>M</td>\n",
       "      <td>2016-01-21</td>\n",
       "    </tr>\n",
       "    <tr>\n",
       "      <th>4</th>\n",
       "      <td>1339829</td>\n",
       "      <td>Other</td>\n",
       "      <td>1981-05-03</td>\n",
       "      <td>F</td>\n",
       "      <td>2016-04-12</td>\n",
       "    </tr>\n",
       "    <tr>\n",
       "      <th>...</th>\n",
       "      <td>...</td>\n",
       "      <td>...</td>\n",
       "      <td>...</td>\n",
       "      <td>...</td>\n",
       "      <td>...</td>\n",
       "    </tr>\n",
       "    <tr>\n",
       "      <th>5802</th>\n",
       "      <td>3347222</td>\n",
       "      <td>FR</td>\n",
       "      <td>1967-05-25</td>\n",
       "      <td></td>\n",
       "      <td>2017-03-22</td>\n",
       "    </tr>\n",
       "    <tr>\n",
       "      <th>5803</th>\n",
       "      <td>3347251</td>\n",
       "      <td>GB</td>\n",
       "      <td>1981-06-11</td>\n",
       "      <td>F</td>\n",
       "      <td>2017-04-03</td>\n",
       "    </tr>\n",
       "    <tr>\n",
       "      <th>5804</th>\n",
       "      <td>3347333</td>\n",
       "      <td>GB</td>\n",
       "      <td>1987-11-22</td>\n",
       "      <td></td>\n",
       "      <td>2017-01-27</td>\n",
       "    </tr>\n",
       "    <tr>\n",
       "      <th>5805</th>\n",
       "      <td>3347367</td>\n",
       "      <td>US</td>\n",
       "      <td>1995-08-09</td>\n",
       "      <td>F</td>\n",
       "      <td>2017-04-04</td>\n",
       "    </tr>\n",
       "    <tr>\n",
       "      <th>5806</th>\n",
       "      <td>3347450</td>\n",
       "      <td>US</td>\n",
       "      <td>1994-07-30</td>\n",
       "      <td>M</td>\n",
       "      <td>2017-04-21</td>\n",
       "    </tr>\n",
       "  </tbody>\n",
       "</table>\n",
       "<p>5807 rows × 5 columns</p>\n",
       "</div>"
      ],
      "text/plain": [
       "       UserId Country         DOB Gender     RegDate\n",
       "0     1326865      DE  1988-05-04      M  2016-03-24\n",
       "1     1333278      GB  1971-07-21      M  2016-02-09\n",
       "2     1336967      GB  1983-07-31      M  2016-01-29\n",
       "3     1339784   Other  1976-09-21      M  2016-01-21\n",
       "4     1339829   Other  1981-05-03      F  2016-04-12\n",
       "...       ...     ...         ...    ...         ...\n",
       "5802  3347222      FR  1967-05-25         2017-03-22\n",
       "5803  3347251      GB  1981-06-11      F  2017-04-03\n",
       "5804  3347333      GB  1987-11-22         2017-01-27\n",
       "5805  3347367      US  1995-08-09      F  2017-04-04\n",
       "5806  3347450      US  1994-07-30      M  2017-04-21\n",
       "\n",
       "[5807 rows x 5 columns]"
      ]
     },
     "execution_count": 4,
     "metadata": {},
     "output_type": "execute_result"
    }
   ],
   "source": [
    "df_users"
   ]
  },
  {
   "cell_type": "markdown",
   "id": "372eb9c4",
   "metadata": {},
   "source": [
    "# Question A"
   ]
  },
  {
   "cell_type": "code",
   "execution_count": 5,
   "id": "a4c51c7a",
   "metadata": {},
   "outputs": [
    {
     "name": "stdout",
     "output_type": "stream",
     "text": [
      "activities: 3 variables and 22642 observations\n",
      "users: 5 variables and 5807 observations\n"
     ]
    }
   ],
   "source": [
    "print('activities: {} variables and {} observations'.format(df_activities.shape[1], df_activities.shape[0]) )\n",
    "print('users: {} variables and {} observations'.format(df_users.shape[1], df_users.shape[0]) )"
   ]
  },
  {
   "cell_type": "code",
   "execution_count": 6,
   "id": "935a5cd3",
   "metadata": {},
   "outputs": [
    {
     "data": {
      "image/png": "[encoded data removed]",
      "text/plain": [
       "<Figure size 432x288 with 1 Axes>"
      ]
     },
     "metadata": {
      "needs_background": "light"
     },
     "output_type": "display_data"
    }
   ],
   "source": [
    "gender_counts = df_users.Gender.value_counts()\n",
    "gender_counts['unknown'] = gender_counts.pop(' ') #rename the key to unknown\n",
    "\n",
    "ax = gender_counts.plot(kind='bar', rot=0)\n",
    "ax.bar_label(ax.containers[0])\n",
    "plt.show()"
   ]
  },
  {
   "cell_type": "code",
   "execution_count": 7,
   "id": "d1047507",
   "metadata": {},
   "outputs": [
    {
     "data": {
      "text/plain": [
       "M    4390\n",
       "F    1417\n",
       "Name: Gender, dtype: int64"
      ]
     },
     "execution_count": 7,
     "metadata": {},
     "output_type": "execute_result"
    }
   ],
   "source": [
    "# If there is no gender information available, please assume that the gender is male (“M”) for all further questions.\n",
    "df_users.Gender.replace({\" \": \"M\"}, inplace=True)\n",
    "df_users.Gender.value_counts()"
   ]
  },
  {
   "cell_type": "markdown",
   "id": "dd555577",
   "metadata": {},
   "source": [
    "## 3.Merge the two datasets"
   ]
  },
  {
   "cell_type": "code",
   "execution_count": 8,
   "id": "001f5b76",
   "metadata": {},
   "outputs": [
    {
     "data": {
      "text/html": [
       "<div>\n",
       "<style scoped>\n",
       "    .dataframe tbody tr th:only-of-type {\n",
       "        vertical-align: middle;\n",
       "    }\n",
       "\n",
       "    .dataframe tbody tr th {\n",
       "        vertical-align: top;\n",
       "    }\n",
       "\n",
       "    .dataframe thead th {\n",
       "        text-align: right;\n",
       "    }\n",
       "</style>\n",
       "<table border=\"1\" class=\"dataframe\">\n",
       "  <thead>\n",
       "    <tr style=\"text-align: right;\">\n",
       "      <th></th>\n",
       "      <th>UserId</th>\n",
       "      <th>Date</th>\n",
       "      <th>Revenue</th>\n",
       "      <th>Country</th>\n",
       "      <th>DOB</th>\n",
       "      <th>Gender</th>\n",
       "      <th>RegDate</th>\n",
       "    </tr>\n",
       "  </thead>\n",
       "  <tbody>\n",
       "    <tr>\n",
       "      <th>0</th>\n",
       "      <td>1326865</td>\n",
       "      <td>2017-02-19</td>\n",
       "      <td>17.05</td>\n",
       "      <td>DE</td>\n",
       "      <td>1988-05-04</td>\n",
       "      <td>M</td>\n",
       "      <td>2016-03-24</td>\n",
       "    </tr>\n",
       "    <tr>\n",
       "      <th>1</th>\n",
       "      <td>1326865</td>\n",
       "      <td>2017-02-28</td>\n",
       "      <td>17.05</td>\n",
       "      <td>DE</td>\n",
       "      <td>1988-05-04</td>\n",
       "      <td>M</td>\n",
       "      <td>2016-03-24</td>\n",
       "    </tr>\n",
       "    <tr>\n",
       "      <th>2</th>\n",
       "      <td>1326865</td>\n",
       "      <td>2017-03-06</td>\n",
       "      <td>17.16</td>\n",
       "      <td>DE</td>\n",
       "      <td>1988-05-04</td>\n",
       "      <td>M</td>\n",
       "      <td>2016-03-24</td>\n",
       "    </tr>\n",
       "    <tr>\n",
       "      <th>3</th>\n",
       "      <td>1326865</td>\n",
       "      <td>2017-03-07</td>\n",
       "      <td>17.16</td>\n",
       "      <td>DE</td>\n",
       "      <td>1988-05-04</td>\n",
       "      <td>M</td>\n",
       "      <td>2016-03-24</td>\n",
       "    </tr>\n",
       "    <tr>\n",
       "      <th>4</th>\n",
       "      <td>1326865</td>\n",
       "      <td>2017-03-08</td>\n",
       "      <td>17.16</td>\n",
       "      <td>DE</td>\n",
       "      <td>1988-05-04</td>\n",
       "      <td>M</td>\n",
       "      <td>2016-03-24</td>\n",
       "    </tr>\n",
       "    <tr>\n",
       "      <th>5</th>\n",
       "      <td>1326865</td>\n",
       "      <td>2017-03-21</td>\n",
       "      <td>17.16</td>\n",
       "      <td>DE</td>\n",
       "      <td>1988-05-04</td>\n",
       "      <td>M</td>\n",
       "      <td>2016-03-24</td>\n",
       "    </tr>\n",
       "    <tr>\n",
       "      <th>6</th>\n",
       "      <td>1326865</td>\n",
       "      <td>2017-03-29</td>\n",
       "      <td>17.16</td>\n",
       "      <td>DE</td>\n",
       "      <td>1988-05-04</td>\n",
       "      <td>M</td>\n",
       "      <td>2016-03-24</td>\n",
       "    </tr>\n",
       "    <tr>\n",
       "      <th>7</th>\n",
       "      <td>1326865</td>\n",
       "      <td>2017-03-30</td>\n",
       "      <td>21.45</td>\n",
       "      <td>DE</td>\n",
       "      <td>1988-05-04</td>\n",
       "      <td>M</td>\n",
       "      <td>2016-03-24</td>\n",
       "    </tr>\n",
       "    <tr>\n",
       "      <th>8</th>\n",
       "      <td>1326865</td>\n",
       "      <td>2017-04-04</td>\n",
       "      <td>17.09</td>\n",
       "      <td>DE</td>\n",
       "      <td>1988-05-04</td>\n",
       "      <td>M</td>\n",
       "      <td>2016-03-24</td>\n",
       "    </tr>\n",
       "    <tr>\n",
       "      <th>9</th>\n",
       "      <td>1326865</td>\n",
       "      <td>2017-04-05</td>\n",
       "      <td>17.09</td>\n",
       "      <td>DE</td>\n",
       "      <td>1988-05-04</td>\n",
       "      <td>M</td>\n",
       "      <td>2016-03-24</td>\n",
       "    </tr>\n",
       "    <tr>\n",
       "      <th>10</th>\n",
       "      <td>1326865</td>\n",
       "      <td>2017-04-19</td>\n",
       "      <td>17.09</td>\n",
       "      <td>DE</td>\n",
       "      <td>1988-05-04</td>\n",
       "      <td>M</td>\n",
       "      <td>2016-03-24</td>\n",
       "    </tr>\n",
       "    <tr>\n",
       "      <th>11</th>\n",
       "      <td>1326865</td>\n",
       "      <td>2017-04-23</td>\n",
       "      <td>34.17</td>\n",
       "      <td>DE</td>\n",
       "      <td>1988-05-04</td>\n",
       "      <td>M</td>\n",
       "      <td>2016-03-24</td>\n",
       "    </tr>\n",
       "    <tr>\n",
       "      <th>12</th>\n",
       "      <td>1326865</td>\n",
       "      <td>2017-05-02</td>\n",
       "      <td>21.36</td>\n",
       "      <td>DE</td>\n",
       "      <td>1988-05-04</td>\n",
       "      <td>M</td>\n",
       "      <td>2016-03-24</td>\n",
       "    </tr>\n",
       "    <tr>\n",
       "      <th>13</th>\n",
       "      <td>1326865</td>\n",
       "      <td>2017-05-04</td>\n",
       "      <td>17.01</td>\n",
       "      <td>DE</td>\n",
       "      <td>1988-05-04</td>\n",
       "      <td>M</td>\n",
       "      <td>2016-03-24</td>\n",
       "    </tr>\n",
       "    <tr>\n",
       "      <th>14</th>\n",
       "      <td>1326865</td>\n",
       "      <td>2017-05-16</td>\n",
       "      <td>17.01</td>\n",
       "      <td>DE</td>\n",
       "      <td>1988-05-04</td>\n",
       "      <td>M</td>\n",
       "      <td>2016-03-24</td>\n",
       "    </tr>\n",
       "    <tr>\n",
       "      <th>15</th>\n",
       "      <td>1326865</td>\n",
       "      <td>2017-06-14</td>\n",
       "      <td>16.89</td>\n",
       "      <td>DE</td>\n",
       "      <td>1988-05-04</td>\n",
       "      <td>M</td>\n",
       "      <td>2016-03-24</td>\n",
       "    </tr>\n",
       "    <tr>\n",
       "      <th>16</th>\n",
       "      <td>1326865</td>\n",
       "      <td>2017-06-21</td>\n",
       "      <td>16.89</td>\n",
       "      <td>DE</td>\n",
       "      <td>1988-05-04</td>\n",
       "      <td>M</td>\n",
       "      <td>2016-03-24</td>\n",
       "    </tr>\n",
       "    <tr>\n",
       "      <th>17</th>\n",
       "      <td>1326865</td>\n",
       "      <td>2017-08-14</td>\n",
       "      <td>17.56</td>\n",
       "      <td>DE</td>\n",
       "      <td>1988-05-04</td>\n",
       "      <td>M</td>\n",
       "      <td>2016-03-24</td>\n",
       "    </tr>\n",
       "    <tr>\n",
       "      <th>18</th>\n",
       "      <td>1326865</td>\n",
       "      <td>2017-09-23</td>\n",
       "      <td>17.91</td>\n",
       "      <td>DE</td>\n",
       "      <td>1988-05-04</td>\n",
       "      <td>M</td>\n",
       "      <td>2016-03-24</td>\n",
       "    </tr>\n",
       "    <tr>\n",
       "      <th>19</th>\n",
       "      <td>1333278</td>\n",
       "      <td>2017-01-14</td>\n",
       "      <td>25.00</td>\n",
       "      <td>GB</td>\n",
       "      <td>1971-07-21</td>\n",
       "      <td>M</td>\n",
       "      <td>2016-02-09</td>\n",
       "    </tr>\n",
       "    <tr>\n",
       "      <th>20</th>\n",
       "      <td>1333278</td>\n",
       "      <td>2017-05-26</td>\n",
       "      <td>20.00</td>\n",
       "      <td>GB</td>\n",
       "      <td>1971-07-21</td>\n",
       "      <td>M</td>\n",
       "      <td>2016-02-09</td>\n",
       "    </tr>\n",
       "    <tr>\n",
       "      <th>21</th>\n",
       "      <td>1336967</td>\n",
       "      <td>2016-12-12</td>\n",
       "      <td>20.00</td>\n",
       "      <td>GB</td>\n",
       "      <td>1983-07-31</td>\n",
       "      <td>M</td>\n",
       "      <td>2016-01-29</td>\n",
       "    </tr>\n",
       "    <tr>\n",
       "      <th>22</th>\n",
       "      <td>1339784</td>\n",
       "      <td>2016-12-26</td>\n",
       "      <td>29.19</td>\n",
       "      <td>Other</td>\n",
       "      <td>1976-09-21</td>\n",
       "      <td>M</td>\n",
       "      <td>2016-01-21</td>\n",
       "    </tr>\n",
       "    <tr>\n",
       "      <th>23</th>\n",
       "      <td>1339784</td>\n",
       "      <td>2016-12-29</td>\n",
       "      <td>30.09</td>\n",
       "      <td>Other</td>\n",
       "      <td>1976-09-21</td>\n",
       "      <td>M</td>\n",
       "      <td>2016-01-21</td>\n",
       "    </tr>\n",
       "    <tr>\n",
       "      <th>24</th>\n",
       "      <td>1339829</td>\n",
       "      <td>2017-02-19</td>\n",
       "      <td>17.05</td>\n",
       "      <td>Other</td>\n",
       "      <td>1981-05-03</td>\n",
       "      <td>F</td>\n",
       "      <td>2016-04-12</td>\n",
       "    </tr>\n",
       "    <tr>\n",
       "      <th>25</th>\n",
       "      <td>1346806</td>\n",
       "      <td>2017-04-11</td>\n",
       "      <td>17.05</td>\n",
       "      <td>DE</td>\n",
       "      <td>1984-08-04</td>\n",
       "      <td>M</td>\n",
       "      <td>2016-05-08</td>\n",
       "    </tr>\n",
       "    <tr>\n",
       "      <th>26</th>\n",
       "      <td>1361182</td>\n",
       "      <td>2016-10-17</td>\n",
       "      <td>20.00</td>\n",
       "      <td>GB</td>\n",
       "      <td>1986-09-30</td>\n",
       "      <td>M</td>\n",
       "      <td>2015-11-26</td>\n",
       "    </tr>\n",
       "    <tr>\n",
       "      <th>27</th>\n",
       "      <td>1361182</td>\n",
       "      <td>2016-10-18</td>\n",
       "      <td>20.00</td>\n",
       "      <td>GB</td>\n",
       "      <td>1986-09-30</td>\n",
       "      <td>M</td>\n",
       "      <td>2015-11-26</td>\n",
       "    </tr>\n",
       "    <tr>\n",
       "      <th>28</th>\n",
       "      <td>1361182</td>\n",
       "      <td>2016-10-26</td>\n",
       "      <td>20.00</td>\n",
       "      <td>GB</td>\n",
       "      <td>1986-09-30</td>\n",
       "      <td>M</td>\n",
       "      <td>2015-11-26</td>\n",
       "    </tr>\n",
       "    <tr>\n",
       "      <th>29</th>\n",
       "      <td>1361182</td>\n",
       "      <td>2016-11-03</td>\n",
       "      <td>20.00</td>\n",
       "      <td>GB</td>\n",
       "      <td>1986-09-30</td>\n",
       "      <td>M</td>\n",
       "      <td>2015-11-26</td>\n",
       "    </tr>\n",
       "  </tbody>\n",
       "</table>\n",
       "</div>"
      ],
      "text/plain": [
       "     UserId        Date  Revenue Country         DOB Gender     RegDate\n",
       "0   1326865  2017-02-19    17.05      DE  1988-05-04      M  2016-03-24\n",
       "1   1326865  2017-02-28    17.05      DE  1988-05-04      M  2016-03-24\n",
       "2   1326865  2017-03-06    17.16      DE  1988-05-04      M  2016-03-24\n",
       "3   1326865  2017-03-07    17.16      DE  1988-05-04      M  2016-03-24\n",
       "4   1326865  2017-03-08    17.16      DE  1988-05-04      M  2016-03-24\n",
       "5   1326865  2017-03-21    17.16      DE  1988-05-04      M  2016-03-24\n",
       "6   1326865  2017-03-29    17.16      DE  1988-05-04      M  2016-03-24\n",
       "7   1326865  2017-03-30    21.45      DE  1988-05-04      M  2016-03-24\n",
       "8   1326865  2017-04-04    17.09      DE  1988-05-04      M  2016-03-24\n",
       "9   1326865  2017-04-05    17.09      DE  1988-05-04      M  2016-03-24\n",
       "10  1326865  2017-04-19    17.09      DE  1988-05-04      M  2016-03-24\n",
       "11  1326865  2017-04-23    34.17      DE  1988-05-04      M  2016-03-24\n",
       "12  1326865  2017-05-02    21.36      DE  1988-05-04      M  2016-03-24\n",
       "13  1326865  2017-05-04    17.01      DE  1988-05-04      M  2016-03-24\n",
       "14  1326865  2017-05-16    17.01      DE  1988-05-04      M  2016-03-24\n",
       "15  1326865  2017-06-14    16.89      DE  1988-05-04      M  2016-03-24\n",
       "16  1326865  2017-06-21    16.89      DE  1988-05-04      M  2016-03-24\n",
       "17  1326865  2017-08-14    17.56      DE  1988-05-04      M  2016-03-24\n",
       "18  1326865  2017-09-23    17.91      DE  1988-05-04      M  2016-03-24\n",
       "19  1333278  2017-01-14    25.00      GB  1971-07-21      M  2016-02-09\n",
       "20  1333278  2017-05-26    20.00      GB  1971-07-21      M  2016-02-09\n",
       "21  1336967  2016-12-12    20.00      GB  1983-07-31      M  2016-01-29\n",
       "22  1339784  2016-12-26    29.19   Other  1976-09-21      M  2016-01-21\n",
       "23  1339784  2016-12-29    30.09   Other  1976-09-21      M  2016-01-21\n",
       "24  1339829  2017-02-19    17.05   Other  1981-05-03      F  2016-04-12\n",
       "25  1346806  2017-04-11    17.05      DE  1984-08-04      M  2016-05-08\n",
       "26  1361182  2016-10-17    20.00      GB  1986-09-30      M  2015-11-26\n",
       "27  1361182  2016-10-18    20.00      GB  1986-09-30      M  2015-11-26\n",
       "28  1361182  2016-10-26    20.00      GB  1986-09-30      M  2015-11-26\n",
       "29  1361182  2016-11-03    20.00      GB  1986-09-30      M  2015-11-26"
      ]
     },
     "execution_count": 8,
     "metadata": {},
     "output_type": "execute_result"
    }
   ],
   "source": [
    "df_result = pd.merge(df_activities,\n",
    "                 df_users,\n",
    "                 on='UserId')\n",
    "df_result.head(30)"
   ]
  },
  {
   "cell_type": "markdown",
   "id": "96c4127d",
   "metadata": {},
   "source": [
    "### 3.1 Calculate the days since registration for each activity. "
   ]
  },
  {
   "cell_type": "code",
   "execution_count": 9,
   "id": "beba1473",
   "metadata": {},
   "outputs": [],
   "source": [
    "df_result['DaysSinceReg'] = pd.to_datetime(df_result['Date']) - pd.to_datetime(df_result['RegDate'])"
   ]
  },
  {
   "cell_type": "code",
   "execution_count": 10,
   "id": "f74b5414",
   "metadata": {},
   "outputs": [
    {
     "data": {
      "text/html": [
       "<div>\n",
       "<style scoped>\n",
       "    .dataframe tbody tr th:only-of-type {\n",
       "        vertical-align: middle;\n",
       "    }\n",
       "\n",
       "    .dataframe tbody tr th {\n",
       "        vertical-align: top;\n",
       "    }\n",
       "\n",
       "    .dataframe thead th {\n",
       "        text-align: right;\n",
       "    }\n",
       "</style>\n",
       "<table border=\"1\" class=\"dataframe\">\n",
       "  <thead>\n",
       "    <tr style=\"text-align: right;\">\n",
       "      <th></th>\n",
       "      <th>UserId</th>\n",
       "      <th>Date</th>\n",
       "      <th>Revenue</th>\n",
       "      <th>Country</th>\n",
       "      <th>DOB</th>\n",
       "      <th>Gender</th>\n",
       "      <th>RegDate</th>\n",
       "      <th>DaysSinceReg</th>\n",
       "    </tr>\n",
       "  </thead>\n",
       "  <tbody>\n",
       "    <tr>\n",
       "      <th>0</th>\n",
       "      <td>1326865</td>\n",
       "      <td>2017-02-19</td>\n",
       "      <td>17.05</td>\n",
       "      <td>DE</td>\n",
       "      <td>1988-05-04</td>\n",
       "      <td>M</td>\n",
       "      <td>2016-03-24</td>\n",
       "      <td>332 days</td>\n",
       "    </tr>\n",
       "    <tr>\n",
       "      <th>1</th>\n",
       "      <td>1326865</td>\n",
       "      <td>2017-02-28</td>\n",
       "      <td>17.05</td>\n",
       "      <td>DE</td>\n",
       "      <td>1988-05-04</td>\n",
       "      <td>M</td>\n",
       "      <td>2016-03-24</td>\n",
       "      <td>341 days</td>\n",
       "    </tr>\n",
       "    <tr>\n",
       "      <th>2</th>\n",
       "      <td>1326865</td>\n",
       "      <td>2017-03-06</td>\n",
       "      <td>17.16</td>\n",
       "      <td>DE</td>\n",
       "      <td>1988-05-04</td>\n",
       "      <td>M</td>\n",
       "      <td>2016-03-24</td>\n",
       "      <td>347 days</td>\n",
       "    </tr>\n",
       "    <tr>\n",
       "      <th>3</th>\n",
       "      <td>1326865</td>\n",
       "      <td>2017-03-07</td>\n",
       "      <td>17.16</td>\n",
       "      <td>DE</td>\n",
       "      <td>1988-05-04</td>\n",
       "      <td>M</td>\n",
       "      <td>2016-03-24</td>\n",
       "      <td>348 days</td>\n",
       "    </tr>\n",
       "    <tr>\n",
       "      <th>4</th>\n",
       "      <td>1326865</td>\n",
       "      <td>2017-03-08</td>\n",
       "      <td>17.16</td>\n",
       "      <td>DE</td>\n",
       "      <td>1988-05-04</td>\n",
       "      <td>M</td>\n",
       "      <td>2016-03-24</td>\n",
       "      <td>349 days</td>\n",
       "    </tr>\n",
       "    <tr>\n",
       "      <th>5</th>\n",
       "      <td>1326865</td>\n",
       "      <td>2017-03-21</td>\n",
       "      <td>17.16</td>\n",
       "      <td>DE</td>\n",
       "      <td>1988-05-04</td>\n",
       "      <td>M</td>\n",
       "      <td>2016-03-24</td>\n",
       "      <td>362 days</td>\n",
       "    </tr>\n",
       "    <tr>\n",
       "      <th>6</th>\n",
       "      <td>1326865</td>\n",
       "      <td>2017-03-29</td>\n",
       "      <td>17.16</td>\n",
       "      <td>DE</td>\n",
       "      <td>1988-05-04</td>\n",
       "      <td>M</td>\n",
       "      <td>2016-03-24</td>\n",
       "      <td>370 days</td>\n",
       "    </tr>\n",
       "    <tr>\n",
       "      <th>7</th>\n",
       "      <td>1326865</td>\n",
       "      <td>2017-03-30</td>\n",
       "      <td>21.45</td>\n",
       "      <td>DE</td>\n",
       "      <td>1988-05-04</td>\n",
       "      <td>M</td>\n",
       "      <td>2016-03-24</td>\n",
       "      <td>371 days</td>\n",
       "    </tr>\n",
       "    <tr>\n",
       "      <th>8</th>\n",
       "      <td>1326865</td>\n",
       "      <td>2017-04-04</td>\n",
       "      <td>17.09</td>\n",
       "      <td>DE</td>\n",
       "      <td>1988-05-04</td>\n",
       "      <td>M</td>\n",
       "      <td>2016-03-24</td>\n",
       "      <td>376 days</td>\n",
       "    </tr>\n",
       "    <tr>\n",
       "      <th>9</th>\n",
       "      <td>1326865</td>\n",
       "      <td>2017-04-05</td>\n",
       "      <td>17.09</td>\n",
       "      <td>DE</td>\n",
       "      <td>1988-05-04</td>\n",
       "      <td>M</td>\n",
       "      <td>2016-03-24</td>\n",
       "      <td>377 days</td>\n",
       "    </tr>\n",
       "  </tbody>\n",
       "</table>\n",
       "</div>"
      ],
      "text/plain": [
       "    UserId        Date  Revenue Country         DOB Gender     RegDate  \\\n",
       "0  1326865  2017-02-19    17.05      DE  1988-05-04      M  2016-03-24   \n",
       "1  1326865  2017-02-28    17.05      DE  1988-05-04      M  2016-03-24   \n",
       "2  1326865  2017-03-06    17.16      DE  1988-05-04      M  2016-03-24   \n",
       "3  1326865  2017-03-07    17.16      DE  1988-05-04      M  2016-03-24   \n",
       "4  1326865  2017-03-08    17.16      DE  1988-05-04      M  2016-03-24   \n",
       "5  1326865  2017-03-21    17.16      DE  1988-05-04      M  2016-03-24   \n",
       "6  1326865  2017-03-29    17.16      DE  1988-05-04      M  2016-03-24   \n",
       "7  1326865  2017-03-30    21.45      DE  1988-05-04      M  2016-03-24   \n",
       "8  1326865  2017-04-04    17.09      DE  1988-05-04      M  2016-03-24   \n",
       "9  1326865  2017-04-05    17.09      DE  1988-05-04      M  2016-03-24   \n",
       "\n",
       "  DaysSinceReg  \n",
       "0     332 days  \n",
       "1     341 days  \n",
       "2     347 days  \n",
       "3     348 days  \n",
       "4     349 days  \n",
       "5     362 days  \n",
       "6     370 days  \n",
       "7     371 days  \n",
       "8     376 days  \n",
       "9     377 days  "
      ]
     },
     "execution_count": 10,
     "metadata": {},
     "output_type": "execute_result"
    }
   ],
   "source": [
    "df_result.head(10)"
   ]
  },
  {
   "cell_type": "markdown",
   "id": "68a61ef1",
   "metadata": {},
   "source": [
    "### 3.2 What is the total mean and median revenue generated per user (ie across all activities) ?\n",
    "\n",
    "#### I Interpret the question as \"what is the mean and median of the total revenue produced by each user (over all users' activities)\"?"
   ]
  },
  {
   "cell_type": "code",
   "execution_count": 11,
   "id": "c9e413f4",
   "metadata": {},
   "outputs": [],
   "source": [
    "df_users['TotalRevenue'] = 0"
   ]
  },
  {
   "cell_type": "code",
   "execution_count": 12,
   "id": "b0590c24",
   "metadata": {},
   "outputs": [],
   "source": [
    "for user_id, df_group in df_result.groupby('UserId'):\n",
    "    \n",
    "    cuser_total_revenue = df_group.Revenue.sum()\n",
    "    \n",
    "    df_users.loc[df_users.UserId == user_id, 'TotalRevenue'] = cuser_total_revenue\n",
    "    "
   ]
  },
  {
   "cell_type": "code",
   "execution_count": 13,
   "id": "37aec10c",
   "metadata": {},
   "outputs": [
    {
     "name": "stdout",
     "output_type": "stream",
     "text": [
      "Mean: 511.80773032546665, Median: 80.0\n"
     ]
    }
   ],
   "source": [
    "print('Mean: {}, Median: {}'.format(df_users.TotalRevenue.mean() , df_users.TotalRevenue.median() ))"
   ]
  },
  {
   "cell_type": "markdown",
   "id": "e94223a7",
   "metadata": {},
   "source": [
    "### 3.3 We can see a big difference between the mean and median due to the fact that there are some people who:\n",
    "* a. are just operating much longer then others (some are just registered but without operations)\n",
    "* b. are doing activities that produce higher revenue then a 'typical person'\n",
    "\n",
    "### Therefore, in this case its more meaningfull to use median as a measure of revenue over all activities over all users"
   ]
  },
  {
   "cell_type": "code",
   "execution_count": 14,
   "id": "667fd07d",
   "metadata": {},
   "outputs": [
    {
     "data": {
      "text/plain": [
       "2500    104917.00\n",
       "2291    101460.33\n",
       "5256     82190.12\n",
       "3432     61920.00\n",
       "2994     57700.00\n",
       "          ...    \n",
       "2068         0.00\n",
       "2070         0.00\n",
       "2228         0.00\n",
       "2902         0.00\n",
       "478          0.00\n",
       "Name: TotalRevenue, Length: 5807, dtype: float64"
      ]
     },
     "execution_count": 14,
     "metadata": {},
     "output_type": "execute_result"
    }
   ],
   "source": [
    "df_users.TotalRevenue.sort_values(ascending=False)"
   ]
  },
  {
   "cell_type": "markdown",
   "id": "36928b9b",
   "metadata": {},
   "source": [
    "### 4. Please visualise the distribution of the revenues by user.\n",
    "#### Note that I used the Log scale here due to the fact that there are at an order of magnitude more users whoose total revenue is in 0-5000 range then others"
   ]
  },
  {
   "cell_type": "code",
   "execution_count": 15,
   "id": "6bb84f79",
   "metadata": {},
   "outputs": [
    {
     "data": {
      "text/plain": [
       "Text(0, 0.5, 'Number of users')"
      ]
     },
     "execution_count": 15,
     "metadata": {},
     "output_type": "execute_result"
    },
    {
     "data": {
      "image/png": "[encoded data removed]",
      "text/plain": [
       "<Figure size 432x288 with 1 Axes>"
      ]
     },
     "metadata": {
      "needs_background": "light"
     },
     "output_type": "display_data"
    }
   ],
   "source": [
    "ax = df_users.TotalRevenue.hist(bins=50, log=True)\n",
    "ax.set_xlabel('Total Revenue')\n",
    "ax.set_ylabel('Number of users')"
   ]
  },
  {
   "cell_type": "markdown",
   "id": "c25057ba",
   "metadata": {},
   "source": [
    "### What is the average week 1 revenue, ie the revenue generated by the user in their first week (ie within the first 7 days since registration)?\n"
   ]
  },
  {
   "cell_type": "code",
   "execution_count": 16,
   "id": "7c1a4839",
   "metadata": {},
   "outputs": [],
   "source": [
    "df_first_week_activities = df_result[df_result.DaysSinceReg < pd.Timedelta(7, \"d\")]\n",
    "\n",
    "df_users['TotalRevenueW1'] = 0\n",
    "\n",
    "for user_id, df_group in df_first_week_activities.groupby('UserId'):\n",
    "    \n",
    "    cuser_w1_sum = df_group.Revenue.sum()\n",
    "    \n",
    "    df_users.loc[df_users.UserId == user_id, 'TotalRevenueW1'] = cuser_w1_sum\n",
    "    "
   ]
  },
  {
   "cell_type": "code",
   "execution_count": 17,
   "id": "4fb6e5d6",
   "metadata": {},
   "outputs": [
    {
     "name": "stdout",
     "output_type": "stream",
     "text": [
      "Average revenue generated by the user in their first week:  166.05660926468082\n"
     ]
    }
   ],
   "source": [
    "print('Average revenue generated by the user in their first week: ', df_users.TotalRevenueW1.mean())"
   ]
  },
  {
   "cell_type": "markdown",
   "id": "7a43aef2",
   "metadata": {},
   "source": [
    "# Question B"
   ]
  },
  {
   "cell_type": "code",
   "execution_count": 18,
   "id": "d26b2843",
   "metadata": {},
   "outputs": [],
   "source": [
    "from scipy import stats as st"
   ]
  },
  {
   "cell_type": "markdown",
   "id": "495e335c",
   "metadata": {},
   "source": [
    "### 1. Is the difference in average revenue between men and women, during week 1, statistically significant?"
   ]
  },
  {
   "cell_type": "markdown",
   "id": "b274f490",
   "metadata": {},
   "source": [
    "#### The revenue values for male are independant from revenue values for female, since they dont affect each other, since they are different subjects\n"
   ]
  },
  {
   "cell_type": "code",
   "execution_count": 19,
   "id": "dbb5821f",
   "metadata": {},
   "outputs": [],
   "source": [
    "df_w1_m = df_users[df_users.Gender == 'M']\n",
    "df_w1_f = df_users[df_users.Gender == 'F']"
   ]
  },
  {
   "cell_type": "code",
   "execution_count": 20,
   "id": "e415845b",
   "metadata": {},
   "outputs": [
    {
     "data": {
      "text/plain": [
       "count     4390.000000\n",
       "mean       174.261141\n",
       "std        595.844443\n",
       "min          0.000000\n",
       "25%         20.000000\n",
       "50%         42.630000\n",
       "75%        115.082500\n",
       "max      19350.000000\n",
       "Name: TotalRevenueW1, dtype: float64"
      ]
     },
     "execution_count": 20,
     "metadata": {},
     "output_type": "execute_result"
    }
   ],
   "source": [
    "#Male population week 1 \n",
    "df_w1_m.TotalRevenueW1.describe()"
   ]
  },
  {
   "cell_type": "code",
   "execution_count": 21,
   "id": "cda1d268",
   "metadata": {},
   "outputs": [
    {
     "data": {
      "text/plain": [
       "count     1417.000000\n",
       "mean       140.638193\n",
       "std        524.230355\n",
       "min          0.000000\n",
       "25%         17.820000\n",
       "50%         34.110000\n",
       "75%        100.000000\n",
       "max      10200.000000\n",
       "Name: TotalRevenueW1, dtype: float64"
      ]
     },
     "execution_count": 21,
     "metadata": {},
     "output_type": "execute_result"
    }
   ],
   "source": [
    "#Female population week 1 \n",
    "df_w1_f.TotalRevenueW1.describe()"
   ]
  },
  {
   "cell_type": "code",
   "execution_count": 22,
   "id": "5cc51f42",
   "metadata": {},
   "outputs": [
    {
     "name": "stdout",
     "output_type": "stream",
     "text": [
      "Male population variance:  355030.5998027392\n",
      "Female population variance:  274817.46497724304\n"
     ]
    }
   ],
   "source": [
    "print('Male population variance: ', df_w1_m.TotalRevenueW1.var())\n",
    "\n",
    "print('Female population variance: ', df_w1_f.TotalRevenueW1.var())"
   ]
  },
  {
   "cell_type": "markdown",
   "id": "e176eda4",
   "metadata": {},
   "source": [
    "#### Pooled T-test assumptions:\n",
    "* The populations are independent -> yes\n",
    "* The population variances are equal -> no\n",
    "* Each population is either normal or the sample size is large -> pop size is large, yes\n",
    "\n",
    "#### Welchs T-test assumptions:\n",
    "* The populations are independent -> yes\n",
    "* The population variances are unequal -> yes\n",
    "* the two samples are of different size -> yes\n",
    "* Each population is either normal or the sample size is large -> pop size is large, yes"
   ]
  },
  {
   "cell_type": "markdown",
   "id": "6c32d38a",
   "metadata": {},
   "source": [
    "#### We can see (from the data) that the variances arent close enough to each other -> we cant use the pooled t-test, means we need to use the Welch t-test"
   ]
  },
  {
   "cell_type": "code",
   "execution_count": 23,
   "id": "ebb91dd8",
   "metadata": {},
   "outputs": [
    {
     "data": {
      "text/plain": [
       "Ttest_indResult(statistic=2.028219651424127, pvalue=0.042636111615299316)"
      ]
     },
     "execution_count": 23,
     "metadata": {},
     "output_type": "execute_result"
    }
   ],
   "source": [
    "# note use equal_var = False to perform Welch's t-test, \n",
    "# which assumes unequal pop. variances \n",
    "# by default, equal_var = True = Pooled t-test\n",
    "\n",
    "st.ttest_ind(a=df_w1_m.TotalRevenueW1.values, b=df_w1_f.TotalRevenueW1.values, equal_var=False )"
   ]
  },
  {
   "cell_type": "markdown",
   "id": "92cbefd1",
   "metadata": {},
   "source": [
    "\n",
    "#### When the P-value is less than 0.05, then we can conclude that the two means are significantly different.\n",
    "#### it is less than 0.05 => therefore, the difference between the means is indeed significant"
   ]
  },
  {
   "cell_type": "markdown",
   "id": "bb5618ba",
   "metadata": {},
   "source": [
    "### 2. In which country is this difference the biggest ?\n",
    "#### I.e in which country the difference of means between male and female is the greatest (for week 1) ?"
   ]
  },
  {
   "cell_type": "code",
   "execution_count": 24,
   "id": "244d7585",
   "metadata": {},
   "outputs": [],
   "source": [
    "country_averages = {}\n",
    "\n",
    "for country_code, df_group in df_w1_m.groupby('Country'):\n",
    "    \n",
    "    if not country_code in country_averages:\n",
    "        country_averages[country_code] = {}\n",
    "\n",
    "    country_averages[country_code]['M'] = df_group.TotalRevenueW1.mean()\n",
    "\n",
    "for country_code, df_group in df_w1_f.groupby('Country'):\n",
    "    \n",
    "    if not country_code in country_averages:\n",
    "        country_averages[country_code] = {}\n",
    "\n",
    "    country_averages[country_code]['F'] = df_group.TotalRevenueW1.mean()"
   ]
  },
  {
   "cell_type": "code",
   "execution_count": 25,
   "id": "3d7c78a9",
   "metadata": {},
   "outputs": [],
   "source": [
    "largest_difference_country = 0\n",
    "result_country = ''\n",
    "\n",
    "for county in country_averages:\n",
    "    cdiff = abs( country_averages[county]['M'] - country_averages[county]['F'] )\n",
    "    \n",
    "    if cdiff > largest_difference_country:\n",
    "        largest_difference_country = cdiff\n",
    "        result_country = county\n",
    "        "
   ]
  },
  {
   "cell_type": "code",
   "execution_count": 26,
   "id": "2d4dd6ab",
   "metadata": {},
   "outputs": [
    {
     "name": "stdout",
     "output_type": "stream",
     "text": [
      "Answer:  US\n"
     ]
    }
   ],
   "source": [
    "print('Answer: ', result_country)"
   ]
  },
  {
   "cell_type": "markdown",
   "id": "26fbd308",
   "metadata": {},
   "source": [
    "### 3. Visualise the relationship between country, gender and week 1 revenue with an appropriate chart."
   ]
  },
  {
   "cell_type": "code",
   "execution_count": 27,
   "id": "aea2a2af",
   "metadata": {},
   "outputs": [
    {
     "data": {
      "image/png": "[encoded data removed]",
      "text/plain": [
       "<Figure size 648x360 with 1 Axes>"
      ]
     },
     "metadata": {
      "needs_background": "light"
     },
     "output_type": "display_data"
    }
   ],
   "source": [
    "labels = list( country_averages.keys() )\n",
    "\n",
    "male_means, female_means = [], []\n",
    "\n",
    "for c in country_averages.keys():\n",
    "    male_means.append( country_averages[c]['M'] )\n",
    "    female_means.append( country_averages[c]['F']  )\n",
    "\n",
    "x = np.arange(len(labels))  # the label locations\n",
    "width = 0.35  # the width of the bars\n",
    "\n",
    "fig, ax = plt.subplots(figsize=(9,5))\n",
    "rects1 = ax.bar(x - width/2, male_means, width, label='Male')\n",
    "rects2 = ax.bar(x + width/2, female_means, width, label='Female')\n",
    "\n",
    "# Add some text for labels, title and custom x-axis tick labels, etc.\n",
    "ax.set_ylabel('Average Revenue for week 1')\n",
    "ax.set_title('Average Revenue for week 1 per country and gender')\n",
    "\n",
    "ax.set_xticks(x)\n",
    "ax.set_xticklabels(labels)\n",
    "\n",
    "ax.legend()\n",
    "\n",
    "ax.bar_label(rects1, padding=3)\n",
    "ax.bar_label(rects2, padding=3)\n",
    "\n",
    "fig.tight_layout()\n",
    "\n",
    "plt.show()"
   ]
  },
  {
   "cell_type": "markdown",
   "id": "1227cafc",
   "metadata": {},
   "source": [
    "### 4. Build a linear regression model to predict the week 1 revenue of a user based on the following variables: \n",
    "* Gender \n",
    "* Age\n",
    "* Country\n",
    "* day 1 revenue (ie the revenue generated by the user on their registration date). "
   ]
  },
  {
   "cell_type": "code",
   "execution_count": 28,
   "id": "1b39c604",
   "metadata": {},
   "outputs": [],
   "source": [
    "# prepare the data with needed columns -> add day 1 revenue for each user"
   ]
  },
  {
   "cell_type": "code",
   "execution_count": 29,
   "id": "bfdc3870",
   "metadata": {},
   "outputs": [],
   "source": [
    "#create the day-0 revenue column\n",
    "df_users['Day1Revenue'] = 0\n",
    "\n",
    "for index, row in df_result[df_result.DaysSinceReg == pd.Timedelta(0, \"d\") ].iterrows():\n",
    "    \n",
    "    df_users.loc[df_users.UserId == row['UserId'], 'Day1Revenue'] = row['Revenue']\n",
    "    "
   ]
  },
  {
   "cell_type": "code",
   "execution_count": 30,
   "id": "c11082d0",
   "metadata": {},
   "outputs": [],
   "source": [
    "#calculate age\n",
    "\n",
    "df_users['today'] = pd.Timestamp('13-04-2022')\n",
    "df_users['DOB'] = pd.to_datetime(df_result['DOB'])\n",
    "\n",
    "df_users['Age'] = np.floor( (df_users['today'] - df_users['DOB']).dt.days/365 )"
   ]
  },
  {
   "cell_type": "code",
   "execution_count": 31,
   "id": "2af9bcfd",
   "metadata": {},
   "outputs": [],
   "source": [
    "df_data = df_users[['Gender', 'Age', 'Country', 'Day1Revenue', 'TotalRevenueW1']]"
   ]
  },
  {
   "cell_type": "markdown",
   "id": "d90a4726",
   "metadata": {},
   "source": [
    "### Preprocess and remove outliers"
   ]
  },
  {
   "cell_type": "code",
   "execution_count": 32,
   "id": "1b22709d",
   "metadata": {},
   "outputs": [
    {
     "data": {
      "text/plain": [
       "[]"
      ]
     },
     "execution_count": 32,
     "metadata": {},
     "output_type": "execute_result"
    },
    {
     "data": {
      "image/png": "[encoded data removed]",
      "text/plain": [
       "<Figure size 432x288 with 1 Axes>"
      ]
     },
     "metadata": {
      "needs_background": "light"
     },
     "output_type": "display_data"
    }
   ],
   "source": [
    "df_data.Age.plot.box()\n",
    "plt.plot()"
   ]
  },
  {
   "cell_type": "code",
   "execution_count": 33,
   "id": "f2fe2e25",
   "metadata": {},
   "outputs": [],
   "source": [
    "#remove outliers by age (unrealistic)\n",
    "df_data = df_data[df_data.Age <= 75 ]"
   ]
  },
  {
   "cell_type": "code",
   "execution_count": 34,
   "id": "29925aa0",
   "metadata": {},
   "outputs": [
    {
     "data": {
      "image/png": "[encoded data removed]",
      "text/plain": [
       "<Figure size 432x288 with 1 Axes>"
      ]
     },
     "metadata": {
      "needs_background": "light"
     },
     "output_type": "display_data"
    }
   ],
   "source": [
    "sns.boxplot(y='Age',x='Gender',data=df_data)\n",
    "plt.show()"
   ]
  },
  {
   "cell_type": "markdown",
   "id": "1263373e",
   "metadata": {},
   "source": [
    "### remove outliers by z-score < 3"
   ]
  },
  {
   "cell_type": "code",
   "execution_count": 35,
   "id": "e2190758",
   "metadata": {},
   "outputs": [],
   "source": [
    "df_data = df_data[(np.abs(st.zscore(df_data['Day1Revenue'])) < 3)]\n",
    "df_data = df_data[(np.abs(st.zscore(df_data['TotalRevenueW1'])) < 3)]"
   ]
  },
  {
   "cell_type": "code",
   "execution_count": 36,
   "id": "d3584e77",
   "metadata": {},
   "outputs": [
    {
     "data": {
      "text/plain": [
       "<AxesSubplot:xlabel='Gender', ylabel='TotalRevenueW1'>"
      ]
     },
     "execution_count": 36,
     "metadata": {},
     "output_type": "execute_result"
    },
    {
     "data": {
      "image/png": "[encoded data removed]",
      "text/plain": [
       "<Figure size 432x288 with 1 Axes>"
      ]
     },
     "metadata": {
      "needs_background": "light"
     },
     "output_type": "display_data"
    }
   ],
   "source": [
    "sns.boxplot(y='TotalRevenueW1',x='Gender',data=df_data)"
   ]
  },
  {
   "cell_type": "markdown",
   "id": "6b260004",
   "metadata": {},
   "source": [
    "### Which of these variables have a statistically significant predictive power according to this model? => Day1Revenue"
   ]
  },
  {
   "cell_type": "code",
   "execution_count": 38,
   "id": "3935f3da",
   "metadata": {},
   "outputs": [
    {
     "data": {
      "text/html": [
       "<div>\n",
       "<style scoped>\n",
       "    .dataframe tbody tr th:only-of-type {\n",
       "        vertical-align: middle;\n",
       "    }\n",
       "\n",
       "    .dataframe tbody tr th {\n",
       "        vertical-align: top;\n",
       "    }\n",
       "\n",
       "    .dataframe thead th {\n",
       "        text-align: right;\n",
       "    }\n",
       "</style>\n",
       "<table border=\"1\" class=\"dataframe\">\n",
       "  <thead>\n",
       "    <tr style=\"text-align: right;\">\n",
       "      <th></th>\n",
       "      <th>Age</th>\n",
       "      <th>Day1Revenue</th>\n",
       "      <th>TotalRevenueW1</th>\n",
       "    </tr>\n",
       "  </thead>\n",
       "  <tbody>\n",
       "    <tr>\n",
       "      <th>Age</th>\n",
       "      <td>1.000000</td>\n",
       "      <td>-0.015369</td>\n",
       "      <td>-0.006006</td>\n",
       "    </tr>\n",
       "    <tr>\n",
       "      <th>Day1Revenue</th>\n",
       "      <td>-0.015369</td>\n",
       "      <td>1.000000</td>\n",
       "      <td>0.789057</td>\n",
       "    </tr>\n",
       "    <tr>\n",
       "      <th>TotalRevenueW1</th>\n",
       "      <td>-0.006006</td>\n",
       "      <td>0.789057</td>\n",
       "      <td>1.000000</td>\n",
       "    </tr>\n",
       "  </tbody>\n",
       "</table>\n",
       "</div>"
      ],
      "text/plain": [
       "                     Age  Day1Revenue  TotalRevenueW1\n",
       "Age             1.000000    -0.015369       -0.006006\n",
       "Day1Revenue    -0.015369     1.000000        0.789057\n",
       "TotalRevenueW1 -0.006006     0.789057        1.000000"
      ]
     },
     "execution_count": 38,
     "metadata": {},
     "output_type": "execute_result"
    }
   ],
   "source": [
    "df_data.corr()"
   ]
  },
  {
   "cell_type": "code",
   "execution_count": 37,
   "id": "c8b0b288",
   "metadata": {},
   "outputs": [
    {
     "data": {
      "text/plain": [
       "<seaborn.axisgrid.PairGrid at 0x2075f71d8e0>"
      ]
     },
     "execution_count": 37,
     "metadata": {},
     "output_type": "execute_result"
    },
    {
     "data": {
      "image/png": "[encoded data removed]",
      "text/plain": [
       "<Figure size 584.875x540 with 12 Axes>"
      ]
     },
     "metadata": {
      "needs_background": "light"
     },
     "output_type": "display_data"
    }
   ],
   "source": [
    "sns.pairplot(df_data, hue='Gender')"
   ]
  },
  {
   "cell_type": "code",
   "execution_count": 39,
   "id": "3b3365c0",
   "metadata": {},
   "outputs": [
    {
     "data": {
      "text/plain": [
       "<seaborn.axisgrid.PairGrid at 0x2075f6a5160>"
      ]
     },
     "execution_count": 39,
     "metadata": {},
     "output_type": "execute_result"
    },
    {
     "data": {
      "image/png": "[encoded data removed]",
      "text/plain": [
       "<Figure size 224.875x180 with 1 Axes>"
      ]
     },
     "metadata": {
      "needs_background": "light"
     },
     "output_type": "display_data"
    }
   ],
   "source": [
    "sns.pairplot(df_data, x_vars=['Day1Revenue'],y_vars=['TotalRevenueW1'],hue='Gender')"
   ]
  },
  {
   "cell_type": "code",
   "execution_count": 40,
   "id": "7179783e",
   "metadata": {},
   "outputs": [
    {
     "data": {
      "text/html": [
       "<div>\n",
       "<style scoped>\n",
       "    .dataframe tbody tr th:only-of-type {\n",
       "        vertical-align: middle;\n",
       "    }\n",
       "\n",
       "    .dataframe tbody tr th {\n",
       "        vertical-align: top;\n",
       "    }\n",
       "\n",
       "    .dataframe thead th {\n",
       "        text-align: right;\n",
       "    }\n",
       "</style>\n",
       "<table border=\"1\" class=\"dataframe\">\n",
       "  <thead>\n",
       "    <tr style=\"text-align: right;\">\n",
       "      <th></th>\n",
       "      <th>Age</th>\n",
       "      <th>Day1Revenue</th>\n",
       "      <th>Gender_M</th>\n",
       "      <th>Country_FR</th>\n",
       "      <th>Country_GB</th>\n",
       "      <th>Country_Other</th>\n",
       "      <th>Country_US</th>\n",
       "    </tr>\n",
       "  </thead>\n",
       "  <tbody>\n",
       "    <tr>\n",
       "      <th>0</th>\n",
       "      <td>33.0</td>\n",
       "      <td>0.00</td>\n",
       "      <td>1</td>\n",
       "      <td>0</td>\n",
       "      <td>0</td>\n",
       "      <td>0</td>\n",
       "      <td>0</td>\n",
       "    </tr>\n",
       "    <tr>\n",
       "      <th>1</th>\n",
       "      <td>33.0</td>\n",
       "      <td>0.00</td>\n",
       "      <td>1</td>\n",
       "      <td>0</td>\n",
       "      <td>1</td>\n",
       "      <td>0</td>\n",
       "      <td>0</td>\n",
       "    </tr>\n",
       "    <tr>\n",
       "      <th>2</th>\n",
       "      <td>33.0</td>\n",
       "      <td>0.00</td>\n",
       "      <td>1</td>\n",
       "      <td>0</td>\n",
       "      <td>1</td>\n",
       "      <td>0</td>\n",
       "      <td>0</td>\n",
       "    </tr>\n",
       "    <tr>\n",
       "      <th>3</th>\n",
       "      <td>33.0</td>\n",
       "      <td>0.00</td>\n",
       "      <td>1</td>\n",
       "      <td>0</td>\n",
       "      <td>0</td>\n",
       "      <td>1</td>\n",
       "      <td>0</td>\n",
       "    </tr>\n",
       "    <tr>\n",
       "      <th>4</th>\n",
       "      <td>33.0</td>\n",
       "      <td>0.00</td>\n",
       "      <td>0</td>\n",
       "      <td>0</td>\n",
       "      <td>0</td>\n",
       "      <td>1</td>\n",
       "      <td>0</td>\n",
       "    </tr>\n",
       "    <tr>\n",
       "      <th>...</th>\n",
       "      <td>...</td>\n",
       "      <td>...</td>\n",
       "      <td>...</td>\n",
       "      <td>...</td>\n",
       "      <td>...</td>\n",
       "      <td>...</td>\n",
       "      <td>...</td>\n",
       "    </tr>\n",
       "    <tr>\n",
       "      <th>5802</th>\n",
       "      <td>29.0</td>\n",
       "      <td>37.52</td>\n",
       "      <td>1</td>\n",
       "      <td>1</td>\n",
       "      <td>0</td>\n",
       "      <td>0</td>\n",
       "      <td>0</td>\n",
       "    </tr>\n",
       "    <tr>\n",
       "      <th>5803</th>\n",
       "      <td>36.0</td>\n",
       "      <td>30.00</td>\n",
       "      <td>0</td>\n",
       "      <td>0</td>\n",
       "      <td>1</td>\n",
       "      <td>0</td>\n",
       "      <td>0</td>\n",
       "    </tr>\n",
       "    <tr>\n",
       "      <th>5804</th>\n",
       "      <td>33.0</td>\n",
       "      <td>30.00</td>\n",
       "      <td>1</td>\n",
       "      <td>0</td>\n",
       "      <td>1</td>\n",
       "      <td>0</td>\n",
       "      <td>0</td>\n",
       "    </tr>\n",
       "    <tr>\n",
       "      <th>5805</th>\n",
       "      <td>43.0</td>\n",
       "      <td>17.05</td>\n",
       "      <td>0</td>\n",
       "      <td>0</td>\n",
       "      <td>0</td>\n",
       "      <td>0</td>\n",
       "      <td>1</td>\n",
       "    </tr>\n",
       "    <tr>\n",
       "      <th>5806</th>\n",
       "      <td>43.0</td>\n",
       "      <td>42.63</td>\n",
       "      <td>1</td>\n",
       "      <td>0</td>\n",
       "      <td>0</td>\n",
       "      <td>0</td>\n",
       "      <td>1</td>\n",
       "    </tr>\n",
       "  </tbody>\n",
       "</table>\n",
       "<p>5645 rows × 7 columns</p>\n",
       "</div>"
      ],
      "text/plain": [
       "       Age  Day1Revenue  Gender_M  Country_FR  Country_GB  Country_Other  \\\n",
       "0     33.0         0.00         1           0           0              0   \n",
       "1     33.0         0.00         1           0           1              0   \n",
       "2     33.0         0.00         1           0           1              0   \n",
       "3     33.0         0.00         1           0           0              1   \n",
       "4     33.0         0.00         0           0           0              1   \n",
       "...    ...          ...       ...         ...         ...            ...   \n",
       "5802  29.0        37.52         1           1           0              0   \n",
       "5803  36.0        30.00         0           0           1              0   \n",
       "5804  33.0        30.00         1           0           1              0   \n",
       "5805  43.0        17.05         0           0           0              0   \n",
       "5806  43.0        42.63         1           0           0              0   \n",
       "\n",
       "      Country_US  \n",
       "0              0  \n",
       "1              0  \n",
       "2              0  \n",
       "3              0  \n",
       "4              0  \n",
       "...          ...  \n",
       "5802           0  \n",
       "5803           0  \n",
       "5804           0  \n",
       "5805           1  \n",
       "5806           1  \n",
       "\n",
       "[5645 rows x 7 columns]"
      ]
     },
     "execution_count": 40,
     "metadata": {},
     "output_type": "execute_result"
    }
   ],
   "source": [
    "#add categorical variables as dummy variables\n",
    "X = df_data [[ 'Gender', 'Age', 'Country', 'Day1Revenue' ]]\n",
    "\n",
    "X = pd.get_dummies(data=X, drop_first=True)\n",
    "X"
   ]
  },
  {
   "cell_type": "code",
   "execution_count": 41,
   "id": "5ca9bc64",
   "metadata": {},
   "outputs": [],
   "source": [
    "Y = df_data['TotalRevenueW1']"
   ]
  },
  {
   "cell_type": "code",
   "execution_count": 42,
   "id": "e29c9d5b",
   "metadata": {},
   "outputs": [],
   "source": [
    "from sklearn.model_selection import train_test_split\n",
    "from sklearn.linear_model import LinearRegression\n",
    "\n",
    "\n",
    "X_train, X_test, y_train, y_test = train_test_split(X, Y, test_size=0.2)"
   ]
  },
  {
   "cell_type": "code",
   "execution_count": 43,
   "id": "b701a502",
   "metadata": {},
   "outputs": [
    {
     "data": {
      "text/plain": [
       "LinearRegression()"
      ]
     },
     "execution_count": 43,
     "metadata": {},
     "output_type": "execute_result"
    }
   ],
   "source": [
    "\n",
    "model = LinearRegression()\n",
    "model.fit(X_train,y_train)"
   ]
  },
  {
   "cell_type": "code",
   "execution_count": 44,
   "id": "d09f8210",
   "metadata": {},
   "outputs": [],
   "source": [
    "coeff_parameter = pd.DataFrame(model.coef_,X.columns,columns=['Coefficient'])"
   ]
  },
  {
   "cell_type": "code",
   "execution_count": 45,
   "id": "98cebf1e",
   "metadata": {},
   "outputs": [
    {
     "data": {
      "text/html": [
       "<div>\n",
       "<style scoped>\n",
       "    .dataframe tbody tr th:only-of-type {\n",
       "        vertical-align: middle;\n",
       "    }\n",
       "\n",
       "    .dataframe tbody tr th {\n",
       "        vertical-align: top;\n",
       "    }\n",
       "\n",
       "    .dataframe thead th {\n",
       "        text-align: right;\n",
       "    }\n",
       "</style>\n",
       "<table border=\"1\" class=\"dataframe\">\n",
       "  <thead>\n",
       "    <tr style=\"text-align: right;\">\n",
       "      <th></th>\n",
       "      <th>Coefficient</th>\n",
       "    </tr>\n",
       "  </thead>\n",
       "  <tbody>\n",
       "    <tr>\n",
       "      <th>Age</th>\n",
       "      <td>0.070829</td>\n",
       "    </tr>\n",
       "    <tr>\n",
       "      <th>Day1Revenue</th>\n",
       "      <td>1.131426</td>\n",
       "    </tr>\n",
       "    <tr>\n",
       "      <th>Gender_M</th>\n",
       "      <td>-1.421097</td>\n",
       "    </tr>\n",
       "    <tr>\n",
       "      <th>Country_FR</th>\n",
       "      <td>19.249466</td>\n",
       "    </tr>\n",
       "    <tr>\n",
       "      <th>Country_GB</th>\n",
       "      <td>15.242988</td>\n",
       "    </tr>\n",
       "    <tr>\n",
       "      <th>Country_Other</th>\n",
       "      <td>1.872161</td>\n",
       "    </tr>\n",
       "    <tr>\n",
       "      <th>Country_US</th>\n",
       "      <td>8.536257</td>\n",
       "    </tr>\n",
       "  </tbody>\n",
       "</table>\n",
       "</div>"
      ],
      "text/plain": [
       "               Coefficient\n",
       "Age               0.070829\n",
       "Day1Revenue       1.131426\n",
       "Gender_M         -1.421097\n",
       "Country_FR       19.249466\n",
       "Country_GB       15.242988\n",
       "Country_Other     1.872161\n",
       "Country_US        8.536257"
      ]
     },
     "execution_count": 45,
     "metadata": {},
     "output_type": "execute_result"
    }
   ],
   "source": [
    "coeff_parameter"
   ]
  },
  {
   "cell_type": "code",
   "execution_count": 46,
   "id": "71aebada",
   "metadata": {},
   "outputs": [
    {
     "data": {
      "text/plain": [
       "array([ 89.89642617,  52.21341252,  56.58764672, ..., 262.15912442,\n",
       "       143.78541721,  51.50060555])"
      ]
     },
     "execution_count": 46,
     "metadata": {},
     "output_type": "execute_result"
    }
   ],
   "source": [
    "predictions = model.predict(X_test)\n",
    "predictions"
   ]
  },
  {
   "cell_type": "code",
   "execution_count": 47,
   "id": "da61c1e2",
   "metadata": {},
   "outputs": [
    {
     "name": "stderr",
     "output_type": "stream",
     "text": [
      "C:\\Users\\Kostya\\anaconda3\\lib\\site-packages\\seaborn\\_decorators.py:36: FutureWarning: Pass the following variables as keyword args: x, y. From version 0.12, the only valid positional argument will be `data`, and passing other arguments without an explicit keyword will result in an error or misinterpretation.\n",
      "  warnings.warn(\n"
     ]
    },
    {
     "data": {
      "text/plain": [
       "<AxesSubplot:xlabel='TotalRevenueW1'>"
      ]
     },
     "execution_count": 47,
     "metadata": {},
     "output_type": "execute_result"
    },
    {
     "data": {
      "image/png": "[encoded data removed]",
      "text/plain": [
       "<Figure size 432x288 with 1 Axes>"
      ]
     },
     "metadata": {
      "needs_background": "light"
     },
     "output_type": "display_data"
    }
   ],
   "source": [
    "sns.regplot(y_test,predictions)"
   ]
  },
  {
   "cell_type": "markdown",
   "id": "cdf046f5",
   "metadata": {},
   "source": [
    "### What revenues do you expect women from France, Germany and the UK to generate, assuming they are all aged 40 and all generated £20 on their registration day?"
   ]
  },
  {
   "cell_type": "code",
   "execution_count": 48,
   "id": "62db4410",
   "metadata": {},
   "outputs": [],
   "source": [
    "#perform predictions on this data\n",
    "d = {'Gender':['M', 'F','F','F','F','F'], 'Country': ['FR', 'FR', 'DE', 'GB', 'Other', 'US'], 'Age': [40, 40, 40, 40, 40, 40], 'Day1Revenue':[20, 20,20,20, 20, 20] }\n",
    "\n",
    "\n",
    "df_female_test = pd.DataFrame(data=d)"
   ]
  },
  {
   "cell_type": "code",
   "execution_count": 49,
   "id": "4c3a5cb7",
   "metadata": {},
   "outputs": [
    {
     "data": {
      "text/html": [
       "<div>\n",
       "<style scoped>\n",
       "    .dataframe tbody tr th:only-of-type {\n",
       "        vertical-align: middle;\n",
       "    }\n",
       "\n",
       "    .dataframe tbody tr th {\n",
       "        vertical-align: top;\n",
       "    }\n",
       "\n",
       "    .dataframe thead th {\n",
       "        text-align: right;\n",
       "    }\n",
       "</style>\n",
       "<table border=\"1\" class=\"dataframe\">\n",
       "  <thead>\n",
       "    <tr style=\"text-align: right;\">\n",
       "      <th></th>\n",
       "      <th>Gender</th>\n",
       "      <th>Country</th>\n",
       "      <th>Age</th>\n",
       "      <th>Day1Revenue</th>\n",
       "    </tr>\n",
       "  </thead>\n",
       "  <tbody>\n",
       "    <tr>\n",
       "      <th>0</th>\n",
       "      <td>M</td>\n",
       "      <td>FR</td>\n",
       "      <td>40</td>\n",
       "      <td>20</td>\n",
       "    </tr>\n",
       "    <tr>\n",
       "      <th>1</th>\n",
       "      <td>F</td>\n",
       "      <td>FR</td>\n",
       "      <td>40</td>\n",
       "      <td>20</td>\n",
       "    </tr>\n",
       "    <tr>\n",
       "      <th>2</th>\n",
       "      <td>F</td>\n",
       "      <td>DE</td>\n",
       "      <td>40</td>\n",
       "      <td>20</td>\n",
       "    </tr>\n",
       "    <tr>\n",
       "      <th>3</th>\n",
       "      <td>F</td>\n",
       "      <td>GB</td>\n",
       "      <td>40</td>\n",
       "      <td>20</td>\n",
       "    </tr>\n",
       "    <tr>\n",
       "      <th>4</th>\n",
       "      <td>F</td>\n",
       "      <td>Other</td>\n",
       "      <td>40</td>\n",
       "      <td>20</td>\n",
       "    </tr>\n",
       "    <tr>\n",
       "      <th>5</th>\n",
       "      <td>F</td>\n",
       "      <td>US</td>\n",
       "      <td>40</td>\n",
       "      <td>20</td>\n",
       "    </tr>\n",
       "  </tbody>\n",
       "</table>\n",
       "</div>"
      ],
      "text/plain": [
       "  Gender Country  Age  Day1Revenue\n",
       "0      M      FR   40           20\n",
       "1      F      FR   40           20\n",
       "2      F      DE   40           20\n",
       "3      F      GB   40           20\n",
       "4      F   Other   40           20\n",
       "5      F      US   40           20"
      ]
     },
     "execution_count": 49,
     "metadata": {},
     "output_type": "execute_result"
    }
   ],
   "source": [
    "df_female_test"
   ]
  },
  {
   "cell_type": "code",
   "execution_count": 50,
   "id": "13685528",
   "metadata": {},
   "outputs": [],
   "source": [
    "X_female_test = pd.get_dummies(data=df_female_test, drop_first=True)\n",
    "predictions = model.predict(X_female_test)"
   ]
  },
  {
   "cell_type": "markdown",
   "id": "869a845b",
   "metadata": {},
   "source": [
    "## Answer:"
   ]
  },
  {
   "cell_type": "code",
   "execution_count": 51,
   "id": "6f08410f",
   "metadata": {},
   "outputs": [
    {
     "data": {
      "text/plain": [
       "array([56.43237763, 37.18291141, 52.42589944])"
      ]
     },
     "execution_count": 51,
     "metadata": {},
     "output_type": "execute_result"
    }
   ],
   "source": [
    "predictions[1:4]"
   ]
  },
  {
   "cell_type": "code",
   "execution_count": null,
   "id": "612006a0",
   "metadata": {},
   "outputs": [],
   "source": []
  }
 ],
 "metadata": {
  "kernelspec": {
   "display_name": "Python 3 (ipykernel)",
   "language": "python",
   "name": "python3"
  },
  "language_info": {
   "codemirror_mode": {
    "name": "ipython",
    "version": 3
   },
   "file_extension": ".py",
   "mimetype": "text/x-python",
   "name": "python",
   "nbconvert_exporter": "python",
   "pygments_lexer": "ipython3",
   "version": "3.9.7"
  }
 },
 "nbformat": 4,
 "nbformat_minor": 5
}
